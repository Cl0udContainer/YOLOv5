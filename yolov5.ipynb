{
  "nbformat": 4,
  "nbformat_minor": 0,
  "metadata": {
    "colab": {
      "name": "yolov5.ipynb",
      "provenance": [],
      "collapsed_sections": []
    },
    "kernelspec": {
      "name": "python3",
      "display_name": "Python 3"
    },
    "accelerator": "GPU"
  },
  "cells": [
    {
      "cell_type": "code",
      "metadata": {
        "id": "8p1603VijJ_x"
      },
      "source": [
        "# content 디렉토리에 yolov5 레포지토리 클론하기.\n",
        "%cd /content\n",
        "!git clone https://github.com/ultralytics/yolov5.git"
      ],
      "execution_count": null,
      "outputs": []
    },
    {
      "cell_type": "code",
      "metadata": {
        "id": "WnS0XLAcj1aO"
      },
      "source": [
        "#의존성 있는 파일 설치\n",
        "%cd /content/yolov5/\n",
        "!pip install -r requirements.txt"
      ],
      "execution_count": null,
      "outputs": []
    },
    {
      "cell_type": "code",
      "metadata": {
        "id": "FGPnehy3taJ0"
      },
      "source": [
        "#Google Drive에 있는 Dataset 불러오기 \n",
        "!cp /content/drive/My\\ Drive/MWP.zip /content"
      ],
      "execution_count": 3,
      "outputs": []
    },
    {
      "cell_type": "code",
      "metadata": {
        "id": "0HLU1lyzuOx2"
      },
      "source": [
        "#Dataset 압축해제하기.\n",
        "!mkdir /content/dataset\n",
        "!unzip /content/MWP.zip -d /content/dataset"
      ],
      "execution_count": null,
      "outputs": []
    },
    {
      "cell_type": "code",
      "metadata": {
        "id": "rTDcRAsBeruS"
      },
      "source": [
        "#data.yaml파일 불러오기\n",
        "!cp /content/drive/My\\ Drive/Colab\\ Notebooks/data.yaml /content/dataset"
      ],
      "execution_count": 9,
      "outputs": []
    },
    {
      "cell_type": "code",
      "metadata": {
        "id": "Wmum2kbAj-h3"
      },
      "source": [
        "#data.yaml파일 내용 확인하기.yaml파일 내용 확인하기\n",
        "%cat /content/dataset/data.yaml\n",
        "%cat /content/dataset/data.yaml"
      ],
      "execution_count": null,
      "outputs": []
    },
    {
      "cell_type": "code",
      "metadata": {
        "id": "rgpWsvqS0xlp"
      },
      "source": [
        "#dataset/train과 dataset/val에 있는 data 수 파악하기\n",
        "%cd /\n",
        "from glob import glob\n",
        "\n",
        "train_img_list = glob('/content/dataset/train/images/*.jpg')\n",
        "val_img_list= glob('/content/dataset/val/images/*.jpg')\n",
        "print(len(train_img_list),len(val_img_list))"
      ],
      "execution_count": null,
      "outputs": []
    },
    {
      "cell_type": "code",
      "metadata": {
        "id": "YPTrbUIX3TT2"
      },
      "source": [
        "#train.txt, val.txt생성하기\n",
        "with open('/content/dataset/train.txt', 'w') as f:\n",
        "  f.write('\\n'.join(train_img_list) + '\\n')\n",
        "\n",
        "with open('/content/dataset/val.txt', 'w') as f:\n",
        "  f.write('\\n'.join(val_img_list) + '\\n')"
      ],
      "execution_count": 12,
      "outputs": []
    },
    {
      "cell_type": "code",
      "metadata": {
        "id": "w8JhXyYBlrrW"
      },
      "source": [
        "#data.yaml내용 수정하기 = '/content/dataset/train.txt'\n",
        "data['val'] = '/content/dataset/val.txt'\n",
        "\n",
        "import yaml\n",
        "\n",
        "with open('/content/dataset/data.yaml', 'r') as f:\n",
        "  data = yaml.load(f)\n",
        "\n",
        "print(data)\n",
        "\n",
        "data['train'] = '/content/dataset/train.txt'\n",
        "data['val'] = '/content/dataset/val.txt'\n",
        "\n",
        "with open('/content/dataset/data.yaml', 'w') as f:\n",
        "  yaml.dump(data, f)\n",
        "\n",
        "print(data)"
      ],
      "execution_count": null,
      "outputs": []
    },
    {
      "cell_type": "code",
      "metadata": {
        "id": "Das7YGgqmSUL"
      },
      "source": [
        "#yolov5를 학습시키기\n",
        "%cd /content/yolov5/\n",
        "\n",
        "!python train.py --img 416 --batch 16 --epochs 200 --data /content/dataset/data.yaml --cfg ./models/yolov5m.yaml --weights yolov5m.pt --name My_yolov5m_results"
      ],
      "execution_count": null,
      "outputs": []
    },
    {
      "cell_type": "code",
      "metadata": {
        "id": "GtjxU5JqvpZg"
      },
      "source": [
        "#tensorboard로 결과보기\n",
        "%load_ext tensorboard\n",
        "%tensorboard --logdir /content/yolov5/runs/"
      ],
      "execution_count": null,
      "outputs": []
    },
    {
      "cell_type": "code",
      "metadata": {
        "id": "WbiO5o7HZuvF"
      },
      "source": [
        "#인식할 영상을 Google Drive에서 불러오기\n",
        "!cp /content/drive/My\\ Drive/VideoData/Data001.mp4 /content/yolov5"
      ],
      "execution_count": null,
      "outputs": []
    },
    {
      "cell_type": "code",
      "metadata": {
        "id": "BxsaUV2OZ7zK"
      },
      "source": [
        "#영상에 있는 객체 탐지하기#영상에 있는 객체 탐지하기\n",
        "!python detect.py --weights best.pt --img 1280 --conf 0.4 --source /content/yolov5/Data004.mp4"
      ],
      "execution_count": null,
      "outputs": []
    },
    {
      "cell_type": "code",
      "metadata": {
        "id": "aKXUvffiaH9i"
      },
      "source": [
        "#탐지 결과를 Google Drive로 복사하기.\n",
        "!cp /content/yolov5/inference/output/Data004.mp4 /content/drive/My\\ Drive/Colab\\ Notebooks/Result"
      ],
      "execution_count": null,
      "outputs": []
    }
  ]
}